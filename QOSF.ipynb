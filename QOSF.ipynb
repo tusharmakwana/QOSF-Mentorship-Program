{
  "nbformat": 4,
  "nbformat_minor": 0,
  "metadata": {
    "colab": {
      "name": "QOSF.ipynb",
      "provenance": [],
      "toc_visible": true,
      "authorship_tag": "ABX9TyMv+Y2mtFc1oCO1ktFbMsZ8",
      "include_colab_link": true
    },
    "kernelspec": {
      "name": "python3",
      "display_name": "Python 3"
    },
    "language_info": {
      "name": "python"
    }
  },
  "cells": [
    {
      "cell_type": "markdown",
      "metadata": {
        "id": "view-in-github",
        "colab_type": "text"
      },
      "source": [
        "<a href=\"https://colab.research.google.com/github/tusharmakwana/QOSF-Mentorship-Program/blob/main/QOSF.ipynb\" target=\"_parent\"><img src=\"https://colab.research.google.com/assets/colab-badge.svg\" alt=\"Open In Colab\"/></a>"
      ]
    },
    {
      "cell_type": "code",
      "execution_count": 4,
      "metadata": {
        "id": "UEMNHaoTJzeR"
      },
      "outputs": [],
      "source": [
        "import pandas as pd"
      ]
    }
  ]
}